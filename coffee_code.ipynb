{
 "cells": [
  {
   "cell_type": "markdown",
   "id": "ef3e4fcc",
   "metadata": {},
   "source": [
    "Stage 1. It should print to the standard output what it is doing as it makes the drink."
   ]
  },
  {
   "cell_type": "code",
   "execution_count": 1,
   "id": "d810e461",
   "metadata": {},
   "outputs": [
    {
     "name": "stdout",
     "output_type": "stream",
     "text": [
      "Starting to make a coffee\n",
      "Grinding coffee beans\n",
      "Boiling water\n",
      "Mixing boiled water with crushed coffee beans\n",
      "Pouring coffee into the cup\n",
      "Pouring some milk into the cup\n",
      "Coffee is ready!\n"
     ]
    }
   ],
   "source": [
    "print('Starting to make a coffee')\n",
    "print('Grinding coffee beans')\n",
    "print('Boiling water')\n",
    "print('Mixing boiled water with crushed coffee beans')\n",
    "print('Pouring coffee into the cup')\n",
    "print('Pouring some milk into the cup')\n",
    "print('Coffee is ready!')"
   ]
  },
  {
   "cell_type": "markdown",
   "id": "1c42eea5",
   "metadata": {},
   "source": [
    "Stage 2. Ingridient calculator"
   ]
  },
  {
   "cell_type": "code",
   "execution_count": 2,
   "id": "dfc10e58",
   "metadata": {},
   "outputs": [
    {
     "name": "stdout",
     "output_type": "stream",
     "text": [
      "25\n",
      "5000 ml of water\n",
      "1250 ml of milk\n",
      "375 g of coffee beans\n"
     ]
    }
   ],
   "source": [
    "cups = int(input())\n",
    "water = cups * 200\n",
    "milk = cups * 50\n",
    "coffee = cups * 15\n",
    "print(water, \"ml of water\")\n",
    "print(milk, \"ml of milk\")\n",
    "print(coffee, \"g of coffee beans\")"
   ]
  },
  {
   "cell_type": "markdown",
   "id": "0d6f5709",
   "metadata": {},
   "source": [
    "Stage 3. number estimation"
   ]
  },
  {
   "cell_type": "code",
   "execution_count": 3,
   "id": "a3027c2e",
   "metadata": {},
   "outputs": [
    {
     "name": "stdout",
     "output_type": "stream",
     "text": [
      "500\n",
      "300\n",
      "600\n",
      "14\n",
      "No, I can make only 2 cups of coffee\n"
     ]
    }
   ],
   "source": [
    "a_water = int(input())\n",
    "a_milk = int(input())\n",
    "a_coffee = int(input())\n",
    "cups = int(input())\n",
    "w = a_water // 200\n",
    "m = a_milk // 50\n",
    "c = a_coffee // 15\n",
    "limit = [w, m, c]\n",
    "if cups < min(limit):\n",
    "    N = min(limit) - cups\n",
    "    print(\"Yes, I can make that amount of coffee (and even\", N, \"more than that)\")\n",
    "elif cups > min(limit):\n",
    "    N = min(limit)\n",
    "    print(\"No, I can make only\", N, \"cups of coffee\")\n",
    "else:\n",
    "    print(\"Yes, I can make that amount of coffee\")"
   ]
  },
  {
   "cell_type": "code",
   "execution_count": null,
   "id": "66664e8b",
   "metadata": {},
   "outputs": [],
   "source": []
  }
 ],
 "metadata": {
  "kernelspec": {
   "display_name": "Python 3 (ipykernel)",
   "language": "python",
   "name": "python3"
  },
  "language_info": {
   "codemirror_mode": {
    "name": "ipython",
    "version": 3
   },
   "file_extension": ".py",
   "mimetype": "text/x-python",
   "name": "python",
   "nbconvert_exporter": "python",
   "pygments_lexer": "ipython3",
   "version": "3.9.5"
  }
 },
 "nbformat": 4,
 "nbformat_minor": 5
}
