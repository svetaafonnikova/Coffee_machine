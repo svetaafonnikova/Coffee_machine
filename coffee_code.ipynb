{
 "cells": [
  {
   "cell_type": "markdown",
   "id": "3954326a",
   "metadata": {},
   "source": [
    "Stage 1. It should print to the standard output what it is doing as it makes the drink."
   ]
  },
  {
   "cell_type": "code",
   "execution_count": 1,
   "id": "e2072229",
   "metadata": {},
   "outputs": [
    {
     "name": "stdout",
     "output_type": "stream",
     "text": [
      "Starting to make a coffee\n",
      "Grinding coffee beans\n",
      "Boiling water\n",
      "Mixing boiled water with crushed coffee beans\n",
      "Pouring coffee into the cup\n",
      "Pouring some milk into the cup\n",
      "Coffee is ready!\n"
     ]
    }
   ],
   "source": [
    "print('Starting to make a coffee')\n",
    "print('Grinding coffee beans')\n",
    "print('Boiling water')\n",
    "print('Mixing boiled water with crushed coffee beans')\n",
    "print('Pouring coffee into the cup')\n",
    "print('Pouring some milk into the cup')\n",
    "print('Coffee is ready!')"
   ]
  },
  {
   "cell_type": "code",
   "execution_count": null,
   "id": "4901713c",
   "metadata": {},
   "outputs": [],
   "source": []
  }
 ],
 "metadata": {
  "kernelspec": {
   "display_name": "Python 3 (ipykernel)",
   "language": "python",
   "name": "python3"
  },
  "language_info": {
   "codemirror_mode": {
    "name": "ipython",
    "version": 3
   },
   "file_extension": ".py",
   "mimetype": "text/x-python",
   "name": "python",
   "nbconvert_exporter": "python",
   "pygments_lexer": "ipython3",
   "version": "3.9.5"
  }
 },
 "nbformat": 4,
 "nbformat_minor": 5
}
